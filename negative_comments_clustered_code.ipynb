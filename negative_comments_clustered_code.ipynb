{
  "nbformat": 4,
  "nbformat_minor": 0,
  "metadata": {
    "colab": {
      "provenance": []
    },
    "kernelspec": {
      "name": "python3",
      "display_name": "Python 3"
    },
    "language_info": {
      "name": "python"
    }
  },
  "cells": [
    {
      "cell_type": "code",
      "execution_count": 1,
      "metadata": {
        "colab": {
          "base_uri": "https://localhost:8080/"
        },
        "id": "ucQKZ7fGn_rb",
        "outputId": "fd893341-808d-4a27-d69a-291fa448e2f2"
      },
      "outputs": [
        {
          "output_type": "stream",
          "name": "stdout",
          "text": [
            "Index(['text', 'Openness', 'Conscientiousness', 'Extraversion',\n",
            "       'Agreeableness', 'Neuroticism', 'sentiment', 'like_count'],\n",
            "      dtype='object')\n",
            "Filtered negative comments saved to 'negative_comments_ocean.csv'\n"
          ]
        }
      ],
      "source": [
        "import pandas as pd\n",
        "\n",
        "# Load your dataset\n",
        "df = pd.read_csv('/content/preprocessed_comments.csv')\n",
        "\n",
        "# Check what columns are available (optional but helpful)\n",
        "print(df.columns)\n",
        "\n",
        "# Filter only the negative comments\n",
        "# Assuming your sentiment column is named something like 'sentiment'\n",
        "negative_comments_df = df[df['sentiment'].str.lower() == 'negative']\n",
        "\n",
        "# Select relevant columns: comment text + OCEAN scores + sentiment\n",
        "# (replace 'comment', 'openness', 'conscientiousness', etc. with your actual column names)\n",
        "selected_columns = ['text', 'Openness', 'Conscientiousness', 'Extraversion', 'Agreeableness', 'Neuroticism', 'sentiment']\n",
        "negative_comments_df = negative_comments_df[selected_columns]\n",
        "\n",
        "# Save to a new CSV\n",
        "negative_comments_df.to_csv('negative_comments_ocean.csv', index=False)\n",
        "\n",
        "print(\"Filtered negative comments saved to 'negative_comments_ocean.csv'\")\n"
      ]
    }
  ]
}