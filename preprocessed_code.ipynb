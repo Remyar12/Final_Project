{
 "cells": [
  {
   "cell_type": "code",
   "execution_count": 1,
   "metadata": {},
   "outputs": [
    {
     "name": "stdout",
     "output_type": "stream",
     "text": [
      "Requirement already satisfied: pandas in c:\\users\\remya\\appdata\\local\\programs\\python\\python313\\lib\\site-packages (2.2.3)\n",
      "Collecting langdetect\n",
      "  Downloading langdetect-1.0.9.tar.gz (981 kB)\n",
      "     ---------------------------------------- 0.0/981.5 kB ? eta -:--:--\n",
      "     ---------------------------------------- 0.0/981.5 kB ? eta -:--:--\n",
      "     -------------------- ----------------- 524.3/981.5 kB 1.8 MB/s eta 0:00:01\n",
      "     -------------------------------------- 981.5/981.5 kB 1.9 MB/s eta 0:00:00\n",
      "  Installing build dependencies: started\n",
      "  Installing build dependencies: finished with status 'done'\n",
      "  Getting requirements to build wheel: started\n",
      "  Getting requirements to build wheel: finished with status 'done'\n",
      "  Preparing metadata (pyproject.toml): started\n",
      "  Preparing metadata (pyproject.toml): finished with status 'done'\n",
      "Requirement already satisfied: numpy>=1.26.0 in c:\\users\\remya\\appdata\\local\\programs\\python\\python313\\lib\\site-packages (from pandas) (2.2.3)\n",
      "Requirement already satisfied: python-dateutil>=2.8.2 in c:\\users\\remya\\appdata\\local\\programs\\python\\python313\\lib\\site-packages (from pandas) (2.9.0.post0)\n",
      "Requirement already satisfied: pytz>=2020.1 in c:\\users\\remya\\appdata\\local\\programs\\python\\python313\\lib\\site-packages (from pandas) (2025.1)\n",
      "Requirement already satisfied: tzdata>=2022.7 in c:\\users\\remya\\appdata\\local\\programs\\python\\python313\\lib\\site-packages (from pandas) (2025.1)\n",
      "Requirement already satisfied: six in c:\\users\\remya\\appdata\\local\\programs\\python\\python313\\lib\\site-packages (from langdetect) (1.17.0)\n",
      "Building wheels for collected packages: langdetect\n",
      "  Building wheel for langdetect (pyproject.toml): started\n",
      "  Building wheel for langdetect (pyproject.toml): finished with status 'done'\n",
      "  Created wheel for langdetect: filename=langdetect-1.0.9-py3-none-any.whl size=993363 sha256=f7add39e18f7fad0df3fdbeff1cf1483f1291e6a1c7109e66966a91055b92f6b\n",
      "  Stored in directory: c:\\users\\remya\\appdata\\local\\pip\\cache\\wheels\\eb\\87\\25\\2dddf1c94e1786054e25022ec5530bfed52bad86d882999c48\n",
      "Successfully built langdetect\n",
      "Installing collected packages: langdetect\n",
      "Successfully installed langdetect-1.0.9\n"
     ]
    }
   ],
   "source": [
    "! pip install pandas langdetect\n"
   ]
  },
  {
   "cell_type": "code",
   "execution_count": 2,
   "metadata": {},
   "outputs": [],
   "source": [
    "import pandas as pd\n",
    "import re\n",
    "from langdetect import detect, DetectorFactory"
   ]
  },
  {
   "cell_type": "code",
   "execution_count": 3,
   "metadata": {},
   "outputs": [],
   "source": [
    "# Ensure consistent results from langdetect\n",
    "DetectorFactory.seed = 0\n"
   ]
  },
  {
   "cell_type": "code",
   "execution_count": 5,
   "metadata": {},
   "outputs": [],
   "source": [
    "# Load the dataset\n",
    "file_path = r\"C:\\Users\\remya\\OneDrive\\Desktop\\final_project\\final_comments.csv\"  # Update this if needed\n",
    "df = pd.read_csv(file_path)"
   ]
  },
  {
   "cell_type": "code",
   "execution_count": 11,
   "metadata": {},
   "outputs": [],
   "source": [
    "# Assuming the comments are in a column named 'comment'\n",
    "comment_column = 'text'  # Update if the column name is different"
   ]
  },
  {
   "cell_type": "code",
   "execution_count": 12,
   "metadata": {},
   "outputs": [],
   "source": [
    "# Function to check if a comment is English\n",
    "def is_english(text):\n",
    "    try:\n",
    "        return detect(text) == \"en\"\n",
    "    except:\n",
    "        return False"
   ]
  },
  {
   "cell_type": "code",
   "execution_count": 13,
   "metadata": {},
   "outputs": [],
   "source": [
    "# Function to detect non-English words in Latin script (Hindi typed in English)\n",
    "def contains_non_english_latin(text):\n",
    "    hindi_words = [\"h\", \"ki\", \"m\", \"hn\", \"p\", \"k\", \"n\", \"bhi\", \"ka\", \"ha\", \"to\", \"ke\", \"se\"]\n",
    "    words = text.lower().split()\n",
    "    non_english_count = sum(1 for word in words if word in hindi_words)\n",
    "    return non_english_count > len(words) * 0.3  # If 30% or more words are non-English\n"
   ]
  },
  {
   "cell_type": "code",
   "execution_count": 14,
   "metadata": {},
   "outputs": [],
   "source": [
    "# Function to clean comments\n",
    "def clean_comments(df, comment_col):\n",
    "    # Drop rows where the comment is NaN or empty\n",
    "    df = df.dropna(subset=[comment_col])\n",
    "\n",
    "    # Remove very long comments (adjustable length threshold)\n",
    "    df = df[df[comment_col].str.len() < 300]\n",
    "\n",
    "    # Keep only English comments\n",
    "    df = df[df[comment_col].apply(is_english)]\n",
    "\n",
    "    # Remove comments containing Hindi written in Latin script\n",
    "    df = df[~df[comment_col].apply(contains_non_english_latin)]\n",
    "\n",
    "    # Remove comments containing special characters like # and @\n",
    "    df = df[~df[comment_col].str.contains(r\"[@#]\", regex=True)]\n",
    "\n",
    "    return df"
   ]
  },
  {
   "cell_type": "code",
   "execution_count": 15,
   "metadata": {},
   "outputs": [],
   "source": [
    "# Apply the cleaning function\n",
    "filtered_df = clean_comments(df, comment_column)\n"
   ]
  },
  {
   "cell_type": "code",
   "execution_count": 17,
   "metadata": {},
   "outputs": [],
   "source": [
    "# Save the cleaned data to a new CSV file\n",
    "filtered_file_path = r\"C:\\Users\\remya\\OneDrive\\Desktop\\final_project\\preprocessed_comments.csv\"\n",
    "filtered_df.to_csv(filtered_file_path, index=False)"
   ]
  },
  {
   "cell_type": "code",
   "execution_count": 18,
   "metadata": {},
   "outputs": [
    {
     "name": "stdout",
     "output_type": "stream",
     "text": [
      "Filtered comments saved to: C:\\Users\\remya\\OneDrive\\Desktop\\final_project\\preprocessed_comments.csv\n"
     ]
    }
   ],
   "source": [
    "print(f\"Filtered comments saved to: {filtered_file_path}\")"
   ]
  }
 ],
 "metadata": {
  "kernelspec": {
   "display_name": "Python 3",
   "language": "python",
   "name": "python3"
  },
  "language_info": {
   "codemirror_mode": {
    "name": "ipython",
    "version": 3
   },
   "file_extension": ".py",
   "mimetype": "text/x-python",
   "name": "python",
   "nbconvert_exporter": "python",
   "pygments_lexer": "ipython3",
   "version": "3.13.2"
  }
 },
 "nbformat": 4,
 "nbformat_minor": 2
}
