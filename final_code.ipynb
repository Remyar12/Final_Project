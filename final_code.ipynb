{
  "cells": [
    {
      "cell_type": "code",
      "execution_count": 2,
      "metadata": {
        "colab": {
          "base_uri": "https://localhost:8080/"
        },
        "id": "SPNG3-TOpUa8",
        "outputId": "9345f3ad-bc3a-4a35-cfc4-d5d8e8e923f5"
      },
      "outputs": [
        {
          "name": "stdout",
          "output_type": "stream",
          "text": [
            "Collecting openai==0.28\n",
            "  Downloading openai-0.28.0-py3-none-any.whl.metadata (13 kB)\n",
            "Requirement already satisfied: requests>=2.20 in /usr/local/lib/python3.11/dist-packages (from openai==0.28) (2.32.3)\n",
            "Requirement already satisfied: tqdm in /usr/local/lib/python3.11/dist-packages (from openai==0.28) (4.67.1)\n",
            "Requirement already satisfied: aiohttp in /usr/local/lib/python3.11/dist-packages (from openai==0.28) (3.11.15)\n",
            "Requirement already satisfied: charset-normalizer<4,>=2 in /usr/local/lib/python3.11/dist-packages (from requests>=2.20->openai==0.28) (3.4.1)\n",
            "Requirement already satisfied: idna<4,>=2.5 in /usr/local/lib/python3.11/dist-packages (from requests>=2.20->openai==0.28) (3.10)\n",
            "Requirement already satisfied: urllib3<3,>=1.21.1 in /usr/local/lib/python3.11/dist-packages (from requests>=2.20->openai==0.28) (2.3.0)\n",
            "Requirement already satisfied: certifi>=2017.4.17 in /usr/local/lib/python3.11/dist-packages (from requests>=2.20->openai==0.28) (2025.1.31)\n",
            "Requirement already satisfied: aiohappyeyeballs>=2.3.0 in /usr/local/lib/python3.11/dist-packages (from aiohttp->openai==0.28) (2.6.1)\n",
            "Requirement already satisfied: aiosignal>=1.1.2 in /usr/local/lib/python3.11/dist-packages (from aiohttp->openai==0.28) (1.3.2)\n",
            "Requirement already satisfied: attrs>=17.3.0 in /usr/local/lib/python3.11/dist-packages (from aiohttp->openai==0.28) (25.3.0)\n",
            "Requirement already satisfied: frozenlist>=1.1.1 in /usr/local/lib/python3.11/dist-packages (from aiohttp->openai==0.28) (1.6.0)\n",
            "Requirement already satisfied: multidict<7.0,>=4.5 in /usr/local/lib/python3.11/dist-packages (from aiohttp->openai==0.28) (6.4.3)\n",
            "Requirement already satisfied: propcache>=0.2.0 in /usr/local/lib/python3.11/dist-packages (from aiohttp->openai==0.28) (0.3.1)\n",
            "Requirement already satisfied: yarl<2.0,>=1.17.0 in /usr/local/lib/python3.11/dist-packages (from aiohttp->openai==0.28) (1.20.0)\n",
            "Downloading openai-0.28.0-py3-none-any.whl (76 kB)\n",
            "\u001b[2K   \u001b[90m━━━━━━━━━━━━━━━━━━━━━━━━━━━━━━━━━━━━━━━━\u001b[0m \u001b[32m76.5/76.5 kB\u001b[0m \u001b[31m3.0 MB/s\u001b[0m eta \u001b[36m0:00:00\u001b[0m\n",
            "\u001b[?25hInstalling collected packages: openai\n",
            "  Attempting uninstall: openai\n",
            "    Found existing installation: openai 1.75.0\n",
            "    Uninstalling openai-1.75.0:\n",
            "      Successfully uninstalled openai-1.75.0\n",
            "Successfully installed openai-0.28.0\n"
          ]
        }
      ],
      "source": [
        "! pip install openai==0.28"
      ]
    },
    {
      "cell_type": "code",
      "execution_count": 3,
      "metadata": {
        "colab": {
          "base_uri": "https://localhost:8080/"
        },
        "id": "6DqC6VTlpRNW",
        "outputId": "30bd9fac-b2be-46df-e9e5-95e8fac13b0b"
      },
      "outputs": [
        {
          "name": "stdout",
          "output_type": "stream",
          "text": [
            "\u001b[2K     \u001b[90m━━━━━━━━━━━━━━━━━━━━━━━━━━━━━━━━━━━━━━━━\u001b[0m \u001b[32m44.3/44.3 kB\u001b[0m \u001b[31m2.2 MB/s\u001b[0m eta \u001b[36m0:00:00\u001b[0m\n",
            "\u001b[2K   \u001b[90m━━━━━━━━━━━━━━━━━━━━━━━━━━━━━━━━━━━━━━━━\u001b[0m \u001b[32m9.8/9.8 MB\u001b[0m \u001b[31m80.5 MB/s\u001b[0m eta \u001b[36m0:00:00\u001b[0m\n",
            "\u001b[2K   \u001b[90m━━━━━━━━━━━━━━━━━━━━━━━━━━━━━━━━━━━━━━━━\u001b[0m \u001b[32m6.9/6.9 MB\u001b[0m \u001b[31m119.0 MB/s\u001b[0m eta \u001b[36m0:00:00\u001b[0m\n",
            "\u001b[2K   \u001b[90m━━━━━━━━━━━━━━━━━━━━━━━━━━━━━━━━━━━━━━━━\u001b[0m \u001b[32m79.1/79.1 kB\u001b[0m \u001b[31m5.5 MB/s\u001b[0m eta \u001b[36m0:00:00\u001b[0m\n",
            "\u001b[?25h"
          ]
        }
      ],
      "source": [
        "# Install required packages if not already installed\n",
        "!pip install pandas requests streamlit --quiet"
      ]
    },
    {
      "cell_type": "code",
      "execution_count": 4,
      "metadata": {
        "id": "vs9EqmrypSKG"
      },
      "outputs": [],
      "source": [
        "# =============================\n",
        "# 🛠 Step 1: Import Libraries\n",
        "# =============================\n",
        "import pandas as pd\n",
        "import requests\n",
        "import streamlit as st"
      ]
    },
    {
      "cell_type": "code",
      "execution_count": 7,
      "metadata": {
        "id": "uFoPylrzpYpX"
      },
      "outputs": [],
      "source": [
        "# =============================\n",
        "# 🛠 Step 2: Load the Data\n",
        "# =============================\n",
        "# Load the CSV file\n",
        "df = pd.read_csv('/content/negative_comments_ocean.csv')  # Adjust path if needed"
      ]
    },
    {
      "cell_type": "code",
      "execution_count": 8,
      "metadata": {
        "id": "KcN6rrvOpf_y"
      },
      "outputs": [],
      "source": [
        "# =============================\n",
        "# 🛠 Step 3: Prepare Prompt\n",
        "# =============================\n",
        "# Combine comments (limit to avoid token overflow)\n",
        "all_comments = \"\\n\".join(df['text'].astype(str).tolist())\n",
        "all_comments = all_comments[:4000]  # Limit for safety"
      ]
    },
    {
      "cell_type": "code",
      "execution_count": 9,
      "metadata": {
        "id": "U68zXs8hpiUv"
      },
      "outputs": [],
      "source": [
        "# Calculate average OCEAN scores\n",
        "avg_ocean = {\n",
        "    'openness': round(df['Openness'].mean(), 2),\n",
        "    'conscientiousness': round(df['Conscientiousness'].mean(), 2),\n",
        "    'extraversion': round(df['Extraversion'].mean(), 2),\n",
        "    'agreeableness': round(df['Agreeableness'].mean(), 2),\n",
        "    'neuroticism': round(df['Neuroticism'].mean(), 2),\n",
        "}\n",
        "dominant_trait = max(avg_ocean, key=avg_ocean.get)\n"
      ]
    },
    {
      "cell_type": "code",
      "execution_count": 10,
      "metadata": {
        "id": "xzkf8alIpkk1"
      },
      "outputs": [],
      "source": [
        "# Create the prompt\n",
        "prompt = f\"\"\"\n",
        "You are an expert in psychology, public policy, and civic engagement.\n",
        "\n",
        "You are given a batch of YouTube comments related to Indian democracy and elections.\n",
        "These comments are mostly NEGATIVE in sentiment.\n",
        "\n",
        "Here are some example comments:\n",
        "\\\"\\\"\\\"\n",
        "{all_comments}\n",
        "\\\"\\\"\\\"\n",
        "\n",
        "Here are the average personality scores for the commenters (OCEAN model):\n",
        "- Openness: {avg_ocean['openness']}\n",
        "- Conscientiousness: {avg_ocean['conscientiousness']}\n",
        "- Extraversion: {avg_ocean['extraversion']}\n",
        "- Agreeableness: {avg_ocean['agreeableness']}\n",
        "- Neuroticism: {avg_ocean['neuroticism']}\n",
        "Dominant Trait: {dominant_trait}\n",
        "\n",
        "Please analyze and return a detailed response in this format:\n",
        "\n",
        "Extracted Themes (main reasons behind the negative sentiment):\n",
        "[List out 4–6 themes with short explanations in bullet form]\n",
        "\n",
        "💬 Motivational Message:\n",
        "[Write a warm, inspiring, personalized message that considers their personality and emotional state.]\n",
        "\n",
        "✅ Civic Engagement Strategy:\n",
        "[Offer an actionable and empathetic suggestion that helps this group turn their concern into productive democratic engagement.]\n",
        "\n",
        "Make the language accessible, positive, and emotionally intelligent.\n",
        "\"\"\"\n"
      ]
    },
    {
      "cell_type": "code",
      "execution_count": null,
      "metadata": {
        "id": "fVo8DVM4prtl"
      },
      "outputs": [],
      "source": [
        "# =============================\n",
        "# 🛠 Step 4: Send API Request\n",
        "# =============================\n",
        "# API request to OpenRouter\n",
        "headers = {\n",
        "    \"Authorization\": \"Bearer ADD API KEY HERE\",\n",
        "    \"Content-Type\": \"application/json\"\n",
        "}\n",
        "\n",
        "data = {\n",
        "    \"model\": \"mistralai/mistral-7b-instruct\",\n",
        "    \"messages\": [{\"role\": \"user\", \"content\": prompt}],\n",
        "    \"temperature\": 0.7\n",
        "}\n",
        "\n",
        "response = requests.post(\"https://openrouter.ai/api/v1/chat/completions\", headers=headers, json=data)"
      ]
    },
    {
      "cell_type": "code",
      "execution_count": 13,
      "metadata": {
        "colab": {
          "base_uri": "https://localhost:8080/"
        },
        "id": "PQXwP6E9pzTC",
        "outputId": "623d4e94-444d-4747-8ee8-3d4934ec5421"
      },
      "outputs": [
        {
          "name": "stdout",
          "output_type": "stream",
          "text": [
            "=== FULL ANALYSIS ===\n",
            "\n",
            " Extracted Themes (main reasons behind the negative sentiment):\n",
            "\n",
            "1. Dissatisfaction with current political parties and leaders: Many comments express dissatisfaction with political parties, especially regional ones, for focusing on vested interests, engaging in false propaganda, and not solving local issues.\n",
            "2. Frustration with chaos and corruption in Indian democracy: Several comments mention the chaos in elections and the belief that it leads to a chaotic government and country. They also express concern about politicians and their perceived corruption.\n",
            "3. Concern about loss of accountability: Some comments worry that the consolidation of elections at the national level will result in a loss of accountability, as regional parties won't have to answer to their constituents as frequently.\n",
            "4. Perception of bias in media coverage: A few comments accuse mainstream media of being biased and not being honest, which contributes to their negative sentiment towards the current state of Indian democracy.\n",
            "5. Fear of regional parties losing influence: Some comments suggest that regional parties are afraid of losing their power and influence if One Nation One Election is implemented.\n",
            "\n",
            "💬 Motivational Message:\n",
            "Dear Commenters, I understand that you are frustrated with the current state of Indian democracy, and it's essential to express your concerns. Your passion for your country and its future is commendable. Let's remember that our democracy thrives on our active participation and constructive criticism. Together, we can work towards creating a more accountable, efficient, and fair system.\n",
            "\n",
            "✅ Civic Engagement Strategy:\n",
            "To channel your concerns into productive democratic engagement, I encourage you to actively seek out and engage with local movements, NGOs, or political parties that align with your values and are working to bring about positive change. By joining forces with like-minded individuals, you can collaborate on solutions, raise awareness, and make a real impact in your community. Don't forget the power of your vote – cast it wisely and thoughtfully in every election. Together, we can build a better India.\n",
            "\n",
            "📁 Saved to: detailed_response.txt\n"
          ]
        }
      ],
      "source": [
        "# Handle response\n",
        "if response.status_code == 200:\n",
        "    res_json = response.json()\n",
        "    if \"choices\" in res_json:\n",
        "        content = res_json[\"choices\"][0][\"message\"][\"content\"]\n",
        "        print(\"=== FULL ANALYSIS ===\\n\")\n",
        "        print(content)\n",
        "\n",
        "        # Save to text file\n",
        "        with open(\"/content/detailed_response.txt\", \"w\") as f:\n",
        "            f.write(content)\n",
        "\n",
        "        print(\"\\n📁 Saved to: detailed_response.txt\")\n",
        "    else:\n",
        "        print(\"Unexpected API response:\\n\", res_json)\n",
        "else:\n",
        "    print(\"Request failed:\", response.status_code)\n",
        "    print(response.text)"
      ]
    },
    {
      "cell_type": "code",
      "execution_count": 26,
      "metadata": {
        "colab": {
          "base_uri": "https://localhost:8080/"
        },
        "id": "qmZI0Daqp0Q4",
        "outputId": "a841bfa9-5505-4a32-dee3-eec9f85abc8f"
      },
      "outputs": [
        {
          "name": "stdout",
          "output_type": "stream",
          "text": [
            "\n",
            "✅ Streamlit app saved as 'streamlit_app.py'\n"
          ]
        }
      ],
      "source": [
        "# =============================\n",
        "# 🛠 Step 5: Build Streamlit App\n",
        "# =============================\n",
        "# Save this part separately as `streamlit_app.py`\n",
        "streamlit_code = \"\"\"\n",
        "import streamlit as st\n",
        "\n",
        "# Title\n",
        "st.title(\"Democracy Comments Analysis\")\n",
        "\n",
        "# Load the detailed response\n",
        "with open('/content/detailed_response.txt', 'r') as file:\n",
        "    content = file.read()\n",
        "\n",
        "# Display the content\n",
        "st.header(\"📋 Detailed Analysis\")\n",
        "st.write(content)\n",
        "\n",
        "\"\"\"\n",
        "\n",
        "# Save the Streamlit app\n",
        "with open('/content/streamlit_app.py', 'w') as f:\n",
        "    f.write(streamlit_code)\n",
        "\n",
        "print(\"\\n✅ Streamlit app saved as 'streamlit_app.py'\")"
      ]
    },
    {
      "cell_type": "code",
      "execution_count": 22,
      "metadata": {
        "id": "ooUdNqWJp3OZ"
      },
      "outputs": [],
      "source": [
        "\n",
        "# =============================\n",
        "# 🛠 Step 6: Run Streamlit App\n",
        "# =============================\n",
        "\n",
        "# In Colab, we need to use `localtunnel` or `ngrok` to expose Streamlit to the web\n",
        "!pip install pyngrok --quiet"
      ]
    },
    {
      "cell_type": "code",
      "execution_count": 23,
      "metadata": {
        "id": "DzEG-wEWp8qJ"
      },
      "outputs": [],
      "source": [
        "from pyngrok import ngrok\n",
        "import threading\n"
      ]
    },
    {
      "cell_type": "code",
      "execution_count": 27,
      "metadata": {
        "id": "Bp6LcMSCp-m2"
      },
      "outputs": [],
      "source": [
        "def run_streamlit():\n",
        "    !streamlit run /content/streamlit_app.py --server.port 8501\n",
        "\n",
        "# Run Streamlit in background\n",
        "thread = threading.Thread(target=run_streamlit)\n",
        "thread.start()"
      ]
    },
    {
      "cell_type": "code",
      "execution_count": null,
      "metadata": {
        "colab": {
          "base_uri": "https://localhost:8080/"
        },
        "id": "ZzKFVbqyqBP-",
        "outputId": "05c56988-e8d3-44c9-f50b-e526842e914f"
      },
      "outputs": [
        {
          "name": "stdout",
          "output_type": "stream",
          "text": [
            "\n",
            "🌐 Public URL to access Streamlit app: NgrokTunnel: \"https://d031-34-145-67-170.ngrok-free.app\" -> \"http://localhost:8501\"\n"
          ]
        }
      ],
      "source": [
        "from pyngrok import ngrok\n",
        "\n",
        "# Set your auth token\n",
        "ngrok.set_auth_token(\"ADD AUTH TOKEN HERE\")\n",
        "\n",
        "# Manually configure the tunnel\n",
        "public_url = ngrok.connect(8501, \"http\")  # Explicitly define the protocol\n",
        "print(f\"\\n🌐 Public URL to access Streamlit app: {public_url}\")\n",
        "\n"
      ]
    }
  ],
  "metadata": {
    "accelerator": "GPU",
    "colab": {
      "gpuType": "T4",
      "provenance": []
    },
    "kernelspec": {
      "display_name": "Python 3",
      "name": "python3"
    },
    "language_info": {
      "name": "python"
    }
  },
  "nbformat": 4,
  "nbformat_minor": 0
}
